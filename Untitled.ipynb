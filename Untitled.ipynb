{
 "cells": [
  {
   "cell_type": "code",
   "execution_count": 80,
   "metadata": {},
   "outputs": [],
   "source": [
    "import os\n",
    "import csv\n",
    "import pandas as pd"
   ]
  },
  {
   "cell_type": "code",
   "execution_count": null,
   "metadata": {},
   "outputs": [],
   "source": [
    "file_data.columns"
   ]
  },
  {
   "cell_type": "code",
   "execution_count": null,
   "metadata": {},
   "outputs": [],
   "source": [
    "# Total Number of Players\n",
    "\n",
    "player_count = len(file_data[\"SN\"].value_counts())\n",
    "\n",
    "Table = pd.DataFrame({\"Total Players\": [player_count]})\n",
    "Table                     "
   ]
  },
  {
   "cell_type": "code",
   "execution_count": null,
   "metadata": {
    "scrolled": true
   },
   "outputs": [],
   "source": [
    "# Purchasing Analysis Total\n",
    "\n",
    "unique_items = len(file_data[\"Item Name\"].value_counts())\n",
    "\n",
    "avg_price = round(file_data[\"Price\"].mean(),2)\n",
    "total_purchase = len(file_data[\"Purchase ID\"].value_counts())\n",
    "total_revenue = file_data[\"Price\"].sum()\n",
    "\n",
    "\n",
    "table_pa = pd.DataFrame({\"Number of Unique Items\": [unique_items], \"Average Price\": [avg_price],\n",
    "                        \"Number of Purchases\": [total_purchase], \"Total Revenue\": [total_revenue]})\n",
    "\n",
    "table_pa"
   ]
  },
  {
   "cell_type": "code",
   "execution_count": null,
   "metadata": {},
   "outputs": [],
   "source": [
    "file_data = pd.read_csv(\"Resources/purchase_data.csv\")\n",
    "file_data.head()"
   ]
  },
  {
   "cell_type": "code",
   "execution_count": null,
   "metadata": {},
   "outputs": [],
   "source": [
    "# Gender Demographics\n",
    "\n",
    "player_gender = file_data.loc[:, [\"SN\", \"Gender\"]]\n",
    "player_gender.head\n",
    "\n",
    "player_gender = player_gender.drop_duplicates()\n",
    "player_gender.head\n",
    "\n",
    "player_total = player_gender[\"Gender\"].value_counts()\n",
    "player_total\n",
    "\n",
    "percent_gender = round((player_total / player_count * 100),2)\n",
    "percent_gender\n",
    "\n",
    "table_gd[\"Gender\"] = pd.DataFrame({\"Total Count\": player_total, \"Percentage of Players\": percent_gender})\n",
    "table_gd\n"
   ]
  },
  {
   "cell_type": "code",
   "execution_count": null,
   "metadata": {},
   "outputs": [],
   "source": [
    "# Purchasing Analysis By Gender\n",
    "\n",
    "\n",
    "avg_purchase_price = round(file_data.groupby(['Gender']).mean()['Price'],2)\n",
    "avg_purchase_price\n",
    "\n",
    "total_purchase_gender = round(file_data.groupby(['Gender']).sum()['Price'],2)\n",
    "total_purchase_gender\n",
    "\n",
    "av_price_person = file_data.groupby([\"Gender\"]).sum()/player_total.count()\n",
    "av_price_person\n",
    "\n",
    "table_pa1[\"Gender\"] = pd.DataFrame({\"Purchase Count\": player_total, \"Average Purchase Price\": avg_purchase_price, \n",
    "                         \"Total Purchase\": total_purchase_gender,})\n",
    "table_pa1"
   ]
  },
  {
   "cell_type": "code",
   "execution_count": null,
   "metadata": {},
   "outputs": [],
   "source": [
    "# Age Demographics\n",
    "\n",
    "\n",
    "\n"
   ]
  },
  {
   "cell_type": "code",
   "execution_count": null,
   "metadata": {},
   "outputs": [],
   "source": []
  },
  {
   "cell_type": "code",
   "execution_count": null,
   "metadata": {},
   "outputs": [],
   "source": []
  }
 ],
 "metadata": {
  "kernelspec": {
   "display_name": "Python 3",
   "language": "python",
   "name": "python3"
  },
  "language_info": {
   "codemirror_mode": {
    "name": "ipython",
    "version": 3
   },
   "file_extension": ".py",
   "mimetype": "text/x-python",
   "name": "python",
   "nbconvert_exporter": "python",
   "pygments_lexer": "ipython3",
   "version": "3.7.4"
  }
 },
 "nbformat": 4,
 "nbformat_minor": 2
}
